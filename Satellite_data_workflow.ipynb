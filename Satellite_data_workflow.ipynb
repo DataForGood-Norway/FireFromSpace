{
 "cells": [
  {
   "cell_type": "markdown",
   "metadata": {},
   "source": [
    "A [typical workflow](https://medium.com/planet-stories/a-gentle-introduction-to-gdal-part-4-working-with-satellite-data-d3835b5e2971) to create an image from raw satellite data would be:\n",
    "\n",
    "* Download data.\n",
    "* Re-order or assemble bands into the desired order (red, green, blue; or near-infrared, red, green; etc.)\n",
    "* Increase the resolution with pan-sharpening, if desired.\n",
    "* Contrast-stretch and color-correct the imagery, either algorithmically or by hand.\n",
    "* Restore georeferencing information, if necessary.\n",
    "* Crop, re-project, and re-size image to merge with other data."
   ]
  },
  {
   "cell_type": "markdown",
   "metadata": {},
   "source": [
    "GDAL - [Geospatial Data Abstraction Library](https://www.gdal.org/gdal_tutorial.html)"
   ]
  },
  {
   "cell_type": "markdown",
   "metadata": {},
   "source": [
    "# Getting the Data\n",
    "\n",
    "\n",
    "[The wildfire in California on Nov. 2018](https://github.com/DataForGood-Norway/FireFromSpace#spotted-fires-from-space)\n",
    "\n",
    "The steps needed to download the imagery data:\n",
    "\n",
    "1. Locate on geojson.io to get the coordinates: http://geojson.io/#map=13/36.2200/-118.6188\n",
    "1. Define an Area of Interest (AOI): AOI is the location/geographical window out of which we want to get data.\n",
    "\n",
    "![](./images/geojson_io.jpeg)"
   ]
  },
  {
   "cell_type": "markdown",
   "metadata": {},
   "source": [
    "You get this output\n",
    "\n",
    "```json\n",
    "{\n",
    "  \"type\": \"FeatureCollection\",\n",
    "  \"features\": [\n",
    "    {\n",
    "      \"type\": \"Feature\",\n",
    "      \"properties\": {},\n",
    "      \"geometry\": {\n",
    "        \"type\": \"Polygon\",\n",
    "        \"coordinates\": [\n",
    "          [\n",
    "            [\n",
    "              -118.71156692504884,\n",
    "              36.161716102717776\n",
    "            ],\n",
    "            [\n",
    "              -118.54196548461914,\n",
    "              36.161716102717776\n",
    "            ],\n",
    "            [\n",
    "              -118.54196548461914,\n",
    "              36.27970720524017\n",
    "            ],\n",
    "            [\n",
    "              -118.71156692504884,\n",
    "              36.27970720524017\n",
    "            ],\n",
    "            [\n",
    "              -118.71156692504884,\n",
    "              36.161716102717776\n",
    "            ]\n",
    "          ]\n",
    "        ]\n",
    "      }\n",
    "    }\n",
    "  ]\n",
    "}\n",
    "```"
   ]
  },
  {
   "cell_type": "code",
   "execution_count": 1,
   "metadata": {},
   "outputs": [],
   "source": [
    "from geojson import Feature, Point, FeatureCollection\n",
    "\n",
    "\n",
    "feature_collection = FeatureCollection({\n",
    "  \"type\": \"FeatureCollection\",\n",
    "  \"features\": [\n",
    "    {\n",
    "      \"type\": \"Feature\",\n",
    "      \"properties\": {},\n",
    "      \"geometry\": {\n",
    "        \"type\": \"Polygon\",\n",
    "        \"coordinates\": [\n",
    "          [\n",
    "            [\n",
    "              -118.71156692504884,\n",
    "              36.161716102717776\n",
    "            ],\n",
    "            [\n",
    "              -118.54196548461914,\n",
    "              36.161716102717776\n",
    "            ],\n",
    "            [\n",
    "              -118.54196548461914,\n",
    "              36.27970720524017\n",
    "            ],\n",
    "            [\n",
    "              -118.71156692504884,\n",
    "              36.27970720524017\n",
    "            ],\n",
    "            [\n",
    "              -118.71156692504884,\n",
    "              36.161716102717776\n",
    "            ]\n",
    "          ]\n",
    "        ]\n",
    "      }\n",
    "    }\n",
    "  ]\n",
    "})"
   ]
  },
  {
   "cell_type": "code",
   "execution_count": 4,
   "metadata": {},
   "outputs": [
    {
     "data": {
      "text/plain": [
       "{\"features\": {\"features\": [{\"geometry\": {\"coordinates\": [[[-118.71156692504884, 36.161716102717776], [-118.54196548461914, 36.161716102717776], [-118.54196548461914, 36.27970720524017], [-118.71156692504884, 36.27970720524017], [-118.71156692504884, 36.161716102717776]]], \"type\": \"Polygon\"}, \"properties\": {}, \"type\": \"Feature\"}], \"type\": \"FeatureCollection\"}, \"type\": \"FeatureCollection\"}"
      ]
     },
     "execution_count": 4,
     "metadata": {},
     "output_type": "execute_result"
    }
   ],
   "source": [
    "feature_collection"
   ]
  },
  {
   "cell_type": "code",
   "execution_count": 9,
   "metadata": {},
   "outputs": [
    {
     "data": {
      "text/plain": [
       "[[[-118.71156692504884, 36.161716102717776],\n",
       "  [-118.54196548461914, 36.161716102717776],\n",
       "  [-118.54196548461914, 36.27970720524017],\n",
       "  [-118.71156692504884, 36.27970720524017],\n",
       "  [-118.71156692504884, 36.161716102717776]]]"
      ]
     },
     "execution_count": 9,
     "metadata": {},
     "output_type": "execute_result"
    }
   ],
   "source": [
    "feature_collection[\"features\"][0][\"geometry\"][\"coordinates\"]"
   ]
  },
  {
   "cell_type": "code",
   "execution_count": null,
   "metadata": {},
   "outputs": [],
   "source": []
  }
 ],
 "metadata": {
  "kernelspec": {
   "display_name": "Python 3",
   "language": "python",
   "name": "python3"
  },
  "language_info": {
   "codemirror_mode": {
    "name": "ipython",
    "version": 3
   },
   "file_extension": ".py",
   "mimetype": "text/x-python",
   "name": "python",
   "nbconvert_exporter": "python",
   "pygments_lexer": "ipython3",
   "version": "3.6.8"
  }
 },
 "nbformat": 4,
 "nbformat_minor": 2
}
