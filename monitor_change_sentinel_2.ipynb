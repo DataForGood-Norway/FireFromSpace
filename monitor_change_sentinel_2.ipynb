{
 "cells": [
  {
   "cell_type": "code",
   "execution_count": 16,
   "metadata": {},
   "outputs": [],
   "source": [
    "\"\"\" A test script for monitoring vegetation change over a predefined area of\n",
    "    interest by means of Sentinel-2 data from the Norwegian National Ground\n",
    "    Segment (NBS) read through OPeNDAP.\n",
    "\n",
    "    Made as a show case using Python 2.7\n",
    "\n",
    "===========================================================\n",
    "Name:          monitor_change_sentinel_2\n",
    "Author(s):     Trygve Halsne 19.09.2018 (dd.mm.YYYY)\n",
    "Modifications:\n",
    "Copyright:     (c) Norwegian Meteorological Institute, 2018\n",
    "===========================================================\n",
    "\"\"\"\n",
    "\n",
    "\n",
    "from netCDF4 import Dataset\n",
    "import matplotlib.pyplot as plt\n",
    "import datetime as dt\n",
    "import numpy as np\n",
    "from skimage import exposure"
   ]
  },
  {
   "cell_type": "code",
   "execution_count": 17,
   "metadata": {},
   "outputs": [
    {
     "name": "stdout",
     "output_type": "stream",
     "text": [
      "Read all variables in  0:00:00.295965\n"
     ]
    },
    {
     "ename": "AttributeError",
     "evalue": "'dict' object has no attribute 'iteritems'",
     "output_type": "error",
     "traceback": [
      "\u001b[0;31m---------------------------------------------------------------------------\u001b[0m",
      "\u001b[0;31mAttributeError\u001b[0m                            Traceback (most recent call last)",
      "\u001b[0;32m<ipython-input-17-74c740d92305>\u001b[0m in \u001b[0;36m<module>\u001b[0;34m\u001b[0m\n\u001b[1;32m     87\u001b[0m \u001b[0;34m\u001b[0m\u001b[0m\n\u001b[1;32m     88\u001b[0m     \u001b[0;31m# Saving plots to file\u001b[0m\u001b[0;34m\u001b[0m\u001b[0;34m\u001b[0m\u001b[0;34m\u001b[0m\u001b[0m\n\u001b[0;32m---> 89\u001b[0;31m     \u001b[0;32mfor\u001b[0m \u001b[0mcomposite\u001b[0m\u001b[0;34m,\u001b[0m\u001b[0mimg\u001b[0m \u001b[0;32min\u001b[0m \u001b[0mimagery\u001b[0m\u001b[0;34m.\u001b[0m\u001b[0miteritems\u001b[0m\u001b[0;34m(\u001b[0m\u001b[0;34m)\u001b[0m\u001b[0;34m:\u001b[0m\u001b[0;34m\u001b[0m\u001b[0;34m\u001b[0m\u001b[0m\n\u001b[0m\u001b[1;32m     90\u001b[0m         \u001b[0moutput_name\u001b[0m \u001b[0;34m=\u001b[0m \u001b[0mstr\u001b[0m\u001b[0;34m(\u001b[0m\u001b[0mcomposite\u001b[0m \u001b[0;34m+\u001b[0m \u001b[0;34m'_'\u001b[0m \u001b[0;34m+\u001b[0m \u001b[0mstr\u001b[0m\u001b[0;34m(\u001b[0m\u001b[0mi\u001b[0m\u001b[0;34m)\u001b[0m \u001b[0;34m+\u001b[0m \u001b[0;34m'.png'\u001b[0m\u001b[0;34m)\u001b[0m\u001b[0;34m\u001b[0m\u001b[0;34m\u001b[0m\u001b[0m\n\u001b[1;32m     91\u001b[0m         \u001b[0msave_plot\u001b[0m\u001b[0;34m(\u001b[0m\u001b[0moutput_name\u001b[0m\u001b[0;34m,\u001b[0m \u001b[0mimg\u001b[0m\u001b[0;34m)\u001b[0m\u001b[0;34m\u001b[0m\u001b[0;34m\u001b[0m\u001b[0m\n",
      "\u001b[0;31mAttributeError\u001b[0m: 'dict' object has no attribute 'iteritems'"
     ]
    }
   ],
   "source": [
    "def linearStretch(image, pLow, pHigh):\n",
    "    \"\"\"Operator for linear stretching of histogram.\"\"\"\n",
    "\n",
    "    tmp_image = []\n",
    "    for i in range(image.shape[np.argmin(image.shape)]):\n",
    "        band = image[:,:,i]\n",
    "        iMin, iMax = np.percentile(band[~np.isnan(band)], (pLow, 100-pHigh))\n",
    "        band_rescaled = exposure.rescale_intensity(band, in_range=(iMin, iMax))\n",
    "        tmp_image.append(band_rescaled)\n",
    "    img_rescale = np.dstack(tmp_image)\n",
    "\n",
    "    return img_rescale\n",
    "\n",
    "def get_uint8_image( scaled_image, vmin, vmax):\n",
    "    ''' Scale image from float (or any) input array to uint8\n",
    "    Parameters\n",
    "    ----------\n",
    "        image : 2D matrix\n",
    "        vmin : float - minimum value\n",
    "        vmax : float - maximum value\n",
    "    Returns\n",
    "    -------\n",
    "        2D matrix\n",
    "    '''\n",
    "    # redistribute into range [0,255]\n",
    "    uint8Image = 255 * ((scaled_image - vmin) / float((vmax - vmin)))\n",
    "    uint8Image[uint8Image < 0] = 0\n",
    "    uint8Image[uint8Image > 255] = 255\n",
    "    uint8Image[~np.isfinite(uint8Image)] = 0\n",
    "\n",
    "    return uint8Image.astype('uint8')\n",
    "\n",
    "def save_plot(output_name, data):\n",
    "    ''' Stores plot on local machine '''\n",
    "    fig = plt.figure(frameon=False)\n",
    "    ax = plt.Axes(fig, [0., 0., 1., 1.])\n",
    "    ax.set_axis_off()\n",
    "    fig.add_axes(ax)\n",
    "    ax.imshow(data)\n",
    "    ax.set_aspect('auto')\n",
    "    ax.text(0.025, 0.95, date,\n",
    "        verticalalignment='center', fontsize=20,\n",
    "        transform=ax.transAxes, color='white',\n",
    "        bbox={'facecolor':'black','alpha':0.5, 'edgecolor':'gray', 'boxstyle':'round'})\n",
    "    fig.savefig(output_name)\n",
    "    plt.close('all')\n",
    "\n",
    "\n",
    "# OPeNDAP urls for reading data\n",
    "urls = ['http://nbstds.met.no/thredds/fileServer/NBS/S2A/2015/08/22/S2A_OPER_PRD_MSIL1C_PDMC_20160706T181324_R008_V20150822T104035_20150822T104035/S2A_OPER_MSI_L1C_TL_EPA__20160706T123006_A000863_T32VPM_N02_04.nc',\n",
    "        'http://nbstds.met.no/thredds/fileServer/NBS/S2A/2015/08/15/S2A_OPER_PRD_MSIL1C_PDMC_20160705T144923_R051_V20150815T105041_20150815T105041/S2A_OPER_MSI_L1C_TL_EPA__20160705T124729_A000763_T32VPM_N02_04.nc']\n",
    "files = ['./S2A_OPER_MSI_L1C_TL_EPA__20160706T123006_A000863_T32VPM_N02_04.nc',\n",
    "         './S2A_OPER_MSI_L1C_TL_EPA__20160705T124729_A000763_T32VPM_N02_04.nc']\n",
    "\n",
    "# for i, file in enumerate(files):\n",
    "#     i=0\n",
    "#     url=urls[i]\n",
    "#     t0 = dt.datetime.now()\n",
    "\n",
    "#     # Reading netCDF files with Python\n",
    "#     # http://www.ceda.ac.uk/static/media/uploads/ncas-reading-2015/10_read_netcdf_python.pdf\n",
    "\n",
    "#     # open a netCDF file from python\n",
    "#     # http://www.ceda.ac.uk/static/media/uploads/ncas-reading-2015/10_read_netcdf_python.pdf\n",
    "#     ncin = Dataset(file)\n",
    "\n",
    "#     x0 = 1100; x1  = 2100; y0 = 2000; y1 = 3000 # Area covering Gardermoen\n",
    "\n",
    "#     b3_data = ncin.variables['B3'][0,y0:y1,x0:x1]\n",
    "#     b4_data = ncin.variables['B4'][0,y0:y1,x0:x1]\n",
    "#     b8_data = ncin.variables['B8'][0,y0:y1,x0:x1]\n",
    "#     print(\"Read all variables in \", dt.datetime.now() - t0)\n",
    "\n",
    "#     datetime = ncin.getncattr('start_time')\n",
    "#     date = datetime.split('T')[0]\n",
    "\n",
    "\n",
    "#     # Normalized Difference Vegetation Index (NDVI) uses the NIR and red channels to measure healthy vegetation.\n",
    "#     # If you want to calculate it manually, this is the formula you can use.\n",
    "#     # NDVI always generates a value between -1 and +1.\n",
    "#     # It's really just a standardized way to measure healthy vegetation.\n",
    "#     rgb_false_color_veg = linearStretch(np.dstack([b8_data,b4_data,b3_data]),0.1,0.1)\n",
    "#     NDVI = 0.0 + (b8_data.astype(np.float32) - b4_data.astype(np.float32))/(b8_data.astype(np.float32) + b4_data.astype(np.float32))*1.0\n",
    "\n",
    "#     imagery = {'fcv': rgb_false_color_veg,\n",
    "#                'ndvi': NDVI}\n",
    "\n",
    "#     # Saving plots to file\n",
    "#     for composite,img in imagery.iteritems():\n",
    "#         output_name = str(composite + '_' + str(i) + '.png')\n",
    "#         save_plot(output_name, img)\n",
    "#     ncin.close()"
   ]
  },
  {
   "cell_type": "code",
   "execution_count": 19,
   "metadata": {},
   "outputs": [
    {
     "data": {
      "text/plain": [
       "odict_keys(['time', 'B1', 'B2', 'B3', 'B4', 'B5', 'B6', 'B7', 'B8', 'B9', 'B10', 'B11', 'B12', 'B8A', 'lat', 'lon', 'x', 'y', 'view_zenith_B1', 'view_azimuth_B1', 'view_zenith_B2', 'view_azimuth_B2', 'view_zenith_B3', 'view_azimuth_B3', 'view_zenith_B4', 'view_azimuth_B4', 'view_zenith_B5', 'view_azimuth_B5', 'view_zenith_B6', 'view_azimuth_B6', 'view_zenith_B7', 'view_azimuth_B7', 'view_zenith_B8', 'view_azimuth_B8', 'view_zenith_B8A', 'view_azimuth_B8A', 'view_zenith_B9', 'view_azimuth_B9', 'view_zenith_B10', 'view_azimuth_B10', 'view_zenith_B11', 'view_azimuth_B11', 'view_zenith_B12', 'view_azimuth_B12', 'sun_zenith', 'sun_azimuth', 'view_zenith_mean', 'view_azimuth_mean', 'cirrus_clouds', 'opaque_clouds', 'projection', 'Level_1C_User_Product_metadata', 'Level_1C_DataStrip_ID_metadata', 'Granules_Level_1C_Tile_ID_metadata'])"
      ]
     },
     "execution_count": 19,
     "metadata": {},
     "output_type": "execute_result"
    }
   ],
   "source": [
    "i=0\n",
    "t0 = dt.datetime.now()\n",
    "\n",
    "# Reading netCDF files with Python\n",
    "# http://www.ceda.ac.uk/static/media/uploads/ncas-reading-2015/10_read_netcdf_python.pdf\n",
    "\n",
    "# open a netCDF file from python\n",
    "# http://www.ceda.ac.uk/static/media/uploads/ncas-reading-2015/10_read_netcdf_python.pdf\n",
    "\n",
    "ncin = Dataset(files[0])\n",
    "ncin.variables.keys()"
   ]
  },
  {
   "cell_type": "code",
   "execution_count": 20,
   "metadata": {},
   "outputs": [
    {
     "name": "stdout",
     "output_type": "stream",
     "text": [
      "Read all variables in  0:04:52.676396\n"
     ]
    },
    {
     "data": {
      "text/plain": [
       "'2015-08-22T10:40:35.460Z'"
      ]
     },
     "execution_count": 20,
     "metadata": {},
     "output_type": "execute_result"
    }
   ],
   "source": [
    "x0 = 1100; x1  = 2100; y0 = 2000; y1 = 3000 # Area covering Gardermoen\n",
    "\n",
    "b3_data = ncin.variables['B3'][0,y0:y1,x0:x1]\n",
    "b4_data = ncin.variables['B4'][0,y0:y1,x0:x1]\n",
    "b8_data = ncin.variables['B8'][0,y0:y1,x0:x1]\n",
    "print(\"Read all variables in \", dt.datetime.now() - t0)\n",
    "\n",
    "datetime = ncin.getncattr('start_time')\n",
    "datetime"
   ]
  },
  {
   "cell_type": "code",
   "execution_count": null,
   "metadata": {},
   "outputs": [],
   "source": [
    "date = datetime.split('T')[0]\n",
    "\n",
    "\n",
    "# Normalized Difference Vegetation Index (NDVI) uses the NIR and red channels to measure healthy vegetation.\n",
    "# If you want to calculate it manually, this is the formula you can use.\n",
    "# NDVI always generates a value between -1 and +1.\n",
    "# It's really just a standardized way to measure healthy vegetation.\n",
    "rgb_false_color_veg = linearStretch(np.dstack([b8_data,b4_data,b3_data]),0.1,0.1)\n",
    "NDVI = 0.0 + (b8_data.astype(np.float32) - b4_data.astype(np.float32))/(b8_data.astype(np.float32) + b4_data.astype(np.float32))*1.0\n",
    "\n",
    "imagery = {'fcv': rgb_false_color_veg,\n",
    "           'ndvi': NDVI}"
   ]
  },
  {
   "cell_type": "code",
   "execution_count": 23,
   "metadata": {},
   "outputs": [
    {
     "data": {
      "text/plain": [
       "dict_keys(['fcv', 'ndvi'])"
      ]
     },
     "execution_count": 23,
     "metadata": {},
     "output_type": "execute_result"
    }
   ],
   "source": [
    "imagery.keys()"
   ]
  },
  {
   "cell_type": "code",
   "execution_count": 24,
   "metadata": {},
   "outputs": [
    {
     "data": {
      "text/plain": [
       "{'fcv': masked_array(\n",
       "   data=[[[0.53824092, 0.32897181, 0.30537883],\n",
       "          [0.55200765, 0.3070092 , 0.2967033 ],\n",
       "          [0.55449331, 0.28738304, 0.27356854],\n",
       "          ...,\n",
       "          [0.44034417, 0.35794376, 0.30364372],\n",
       "          [0.44397706, 0.34392507, 0.29496819],\n",
       "          [0.48527725, 0.27429894, 0.2388664 ]],\n",
       " \n",
       "         [[0.4751434 , 0.29252323, 0.27183343],\n",
       "          [0.58776291, 0.33177555, 0.30075188],\n",
       "          [0.56481836, 0.33271012, 0.30769231],\n",
       "          ...,\n",
       "          [0.42963671, 0.39813066, 0.30537883],\n",
       "          [0.41300191, 0.3649531 , 0.29323308],\n",
       "          [0.47246654, 0.33504657, 0.30306536]],\n",
       " \n",
       "         [[0.33021033, 0.15794385, 0.14748409],\n",
       "          [0.46749522, 0.27756996, 0.24407172],\n",
       "          [0.44053537, 0.26775688, 0.2388664 ],\n",
       "          ...,\n",
       "          [0.42695985, 0.39719608, 0.3227299 ],\n",
       "          [0.42772467, 0.41542037, 0.3227299 ],\n",
       "          [0.46520076, 0.3962615 , 0.31983806]],\n",
       " \n",
       "         ...,\n",
       " \n",
       "         [[0.28221797, 0.02990653, 0.05320995],\n",
       "          [0.24282983, 0.02570092, 0.03470214],\n",
       "          [0.25219885, 0.01682242, 0.04800463],\n",
       "          ...,\n",
       "          [0.37629063, 0.20560738, 0.21920185],\n",
       "          [0.37590822, 0.26962604, 0.28629265],\n",
       "          [0.38183556, 0.23084101, 0.26836322]],\n",
       " \n",
       "         [[0.23919694, 0.02102803, 0.04684789],\n",
       "          [0.22428298, 0.0224299 , 0.04279931],\n",
       "          [0.2416826 , 0.01869158, 0.04395604],\n",
       "          ...,\n",
       "          [0.28049713, 0.18925225, 0.20589936],\n",
       "          [0.2873805 , 0.25327091, 0.29207634],\n",
       "          [0.41606119, 0.13598124, 0.18796992]],\n",
       " \n",
       "         [[0.22428298, 0.01822429, 0.04222094],\n",
       "          [0.25219885, 0.02383176, 0.04626952],\n",
       "          [0.31051625, 0.03084111, 0.05147484],\n",
       "          ...,\n",
       "          [0.34053537, 0.16728964, 0.19375361],\n",
       "          [0.29101338, 0.23504662, 0.23019086],\n",
       "          [0.39369025, 0.13224293, 0.15558126]]],\n",
       "   mask=False,\n",
       "   fill_value=1e+20), 'ndvi': masked_array(\n",
       "   data=[[0.49515023827552795, 0.5202257633209229, 0.5368221998214722,\n",
       "          ..., 0.4021711051464081, 0.4163568913936615, 0.5043047070503235],\n",
       "         [0.4820633828639984, 0.5222617983818054, 0.5084590911865234, ...,\n",
       "          0.3617021441459656, 0.37297889590263367, 0.445585161447525],\n",
       "         [0.4944104254245758, 0.4891913831233978, 0.47782424092292786,\n",
       "          ..., 0.3600633144378662, 0.3468961715698242, 0.3928302526473999],\n",
       "         ...,\n",
       "         [0.6201068162918091, 0.5887851119041443, 0.6131846308708191, ...,\n",
       "          0.4845956265926361, 0.4217163920402527, 0.4642075300216675],\n",
       "         [0.5928143262863159, 0.5738725066184998, 0.5994036197662354, ...,\n",
       "          0.40465110540390015, 0.34253543615341187, 0.5880314707756042],\n",
       "         [0.5812500715255737, 0.6015399098396301, 0.642201840877533, ...,\n",
       "          0.4935019612312317, 0.3662641942501068, 0.5763934254646301]],\n",
       "   mask=[[False, False, False, ..., False, False, False],\n",
       "         [False, False, False, ..., False, False, False],\n",
       "         [False, False, False, ..., False, False, False],\n",
       "         ...,\n",
       "         [False, False, False, ..., False, False, False],\n",
       "         [False, False, False, ..., False, False, False],\n",
       "         [False, False, False, ..., False, False, False]],\n",
       "   fill_value=1e+20,\n",
       "   dtype=float32)}"
      ]
     },
     "execution_count": 24,
     "metadata": {},
     "output_type": "execute_result"
    }
   ],
   "source": [
    "imagery"
   ]
  },
  {
   "cell_type": "code",
   "execution_count": 26,
   "metadata": {},
   "outputs": [],
   "source": [
    "# Saving plots to file\n",
    "for composite,img in imagery.items():\n",
    "    output_name = str(composite + '_' + str(i) + '.png')\n",
    "    save_plot(output_name, img)\n",
    "ncin.close()"
   ]
  },
  {
   "cell_type": "code",
   "execution_count": null,
   "metadata": {},
   "outputs": [],
   "source": []
  }
 ],
 "metadata": {
  "kernelspec": {
   "display_name": "Python 3",
   "language": "python",
   "name": "python3"
  },
  "language_info": {
   "codemirror_mode": {
    "name": "ipython",
    "version": 3
   },
   "file_extension": ".py",
   "mimetype": "text/x-python",
   "name": "python",
   "nbconvert_exporter": "python",
   "pygments_lexer": "ipython3",
   "version": "3.7.1"
  }
 },
 "nbformat": 4,
 "nbformat_minor": 2
}
