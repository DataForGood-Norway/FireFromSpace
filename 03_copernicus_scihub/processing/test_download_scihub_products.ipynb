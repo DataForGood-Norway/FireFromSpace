{
 "cells": [
  {
   "cell_type": "code",
   "execution_count": 1,
   "metadata": {},
   "outputs": [],
   "source": [
    "import os\n",
    "\n",
    "# connect to the API\n",
    "from sentinelsat import SentinelAPI, read_geojson, geojson_to_wkt\n",
    "from datetime import date\n",
    "\n",
    "USER = os.environ['DHUS_USER']\n",
    "PASSWORD = os.environ['DHUS_PASSWORD']\n",
    "URL = os.environ['DHUS_URL'] # 'https://scihub.copernicus.eu/dhus'\n",
    "\n",
    "\n",
    "api = SentinelAPI(USER, PASSWORD, URL)"
   ]
  },
  {
   "cell_type": "code",
   "execution_count": 3,
   "metadata": {},
   "outputs": [
    {
     "name": "stdout",
     "output_type": "stream",
     "text": [
      "{\r\n",
      "  \"type\": \"FeatureCollection\",\r\n",
      "  \"features\": [\r\n",
      "    {\r\n",
      "      \"type\": \"Feature\",\r\n",
      "      \"properties\": {},\r\n",
      "      \"geometry\": {\r\n",
      "        \"type\": \"Polygon\",\r\n",
      "        \"coordinates\": [\r\n",
      "          [\r\n",
      "            [\r\n",
      "              -121.453857421875,\r\n",
      "              39.81486542536203\r\n",
      "            ],\r\n",
      "            [\r\n",
      "              -121.3336944580078,\r\n",
      "              39.81486542536203\r\n",
      "            ],\r\n",
      "            [\r\n",
      "              -121.3336944580078,\r\n",
      "              39.90288884886166\r\n",
      "            ],\r\n",
      "            [\r\n",
      "              -121.453857421875,\r\n",
      "              39.90288884886166\r\n",
      "            ],\r\n",
      "            [\r\n",
      "              -121.453857421875,\r\n",
      "              39.81486542536203\r\n",
      "            ]\r\n",
      "          ]\r\n",
      "        ]\r\n",
      "      }\r\n",
      "    }\r\n",
      "  ]\r\n",
      "}\r\n"
     ]
    }
   ],
   "source": [
    "!cat map.geojson"
   ]
  },
  {
   "cell_type": "code",
   "execution_count": 39,
   "metadata": {},
   "outputs": [
    {
     "data": {
      "application/geo+json": {
       "features": [
        {
         "geometry": {
          "coordinates": [
           [
            [
             -121.453857421875,
             39.81486542536203
            ],
            [
             -121.3336944580078,
             39.81486542536203
            ],
            [
             -121.3336944580078,
             39.90288884886166
            ],
            [
             -121.453857421875,
             39.90288884886166
            ],
            [
             -121.453857421875,
             39.81486542536203
            ]
           ]
          ],
          "type": "Polygon"
         },
         "properties": {},
         "type": "Feature"
        }
       ],
       "type": "FeatureCollection"
      },
      "text/plain": [
       "<IPython.display.GeoJSON object>"
      ]
     },
     "metadata": {
      "application/geo+json": {
       "expanded": false,
       "root": "root"
      }
     },
     "output_type": "display_data"
    }
   ],
   "source": [
    "from IPython.display import GeoJSON\n",
    "GeoJSON(\"map.geojson\")"
   ]
  },
  {
   "cell_type": "code",
   "execution_count": 28,
   "metadata": {},
   "outputs": [],
   "source": [
    "footprint = geojson_to_wkt(read_geojson('map.geojson'))\n",
    "products = api.query(footprint,\n",
    "                     date=('20181110', date(2018, 11, 12)),\n",
    "                    #  producttype='SLC',\n",
    "                     platformname='Sentinel-2',\n",
    "                    #  orbitdirection='ASCENDING',\n",
    "                    #  cloudcoverpercentage=(0, 50)\n",
    "                     )"
   ]
  },
  {
   "cell_type": "code",
   "execution_count": 29,
   "metadata": {},
   "outputs": [
    {
     "data": {
      "text/plain": [
       "collections.OrderedDict"
      ]
     },
     "execution_count": 29,
     "metadata": {},
     "output_type": "execute_result"
    }
   ],
   "source": [
    "type(products)"
   ]
  },
  {
   "cell_type": "code",
   "execution_count": 30,
   "metadata": {},
   "outputs": [
    {
     "data": {
      "text/plain": [
       "OrderedDict([('313737ac-a9a5-49d0-ae06-280d1856e984',\n",
       "              {'title': 'S2A_MSIL1C_20181111T185621_N0207_R113_T10TFK_20181111T205747',\n",
       "               'link': \"https://scihub.copernicus.eu/dhus/odata/v1/Products('313737ac-a9a5-49d0-ae06-280d1856e984')/$value\",\n",
       "               'link_alternative': \"https://scihub.copernicus.eu/dhus/odata/v1/Products('313737ac-a9a5-49d0-ae06-280d1856e984')/\",\n",
       "               'link_icon': \"https://scihub.copernicus.eu/dhus/odata/v1/Products('313737ac-a9a5-49d0-ae06-280d1856e984')/Products('Quicklook')/$value\",\n",
       "               'summary': 'Date: 2018-11-11T18:56:21.024Z, Instrument: MSI, Mode: , Satellite: Sentinel-2, Size: 810.36 MB',\n",
       "               'datatakesensingstart': datetime.datetime(2018, 11, 11, 18, 56, 21, 24000),\n",
       "               'beginposition': datetime.datetime(2018, 11, 11, 18, 56, 21, 24000),\n",
       "               'endposition': datetime.datetime(2018, 11, 11, 18, 56, 21, 24000),\n",
       "               'ingestiondate': datetime.datetime(2018, 11, 11, 22, 37, 47, 339000),\n",
       "               'orbitnumber': 17699,\n",
       "               'relativeorbitnumber': 113,\n",
       "               'cloudcoverpercentage': 2.0589,\n",
       "               'sensoroperationalmode': 'INS-NOBS',\n",
       "               'gmlfootprint': '<gml:Polygon srsName=\"http://www.opengis.net/gml/srs/epsg.xml#4326\" xmlns:gml=\"http://www.opengis.net/gml\">\\n   <gml:outerBoundaryIs>\\n      <gml:LinearRing>\\n         <gml:coordinates>40.64479964997401,-121.81731 40.62420990912828,-120.51955 39.63587147039632,-120.55524 39.65575725270223,-121.834335 40.64479964997401,-121.81731</gml:coordinates>\\n      </gml:LinearRing>\\n   </gml:outerBoundaryIs>\\n</gml:Polygon>',\n",
       "               'footprint': 'MULTIPOLYGON (((-121.81731 40.64479964997401, -121.834335 39.65575725270223, -120.55524 39.63587147039632, -120.51955 40.62420990912828, -121.81731 40.64479964997401)))',\n",
       "               'tileid': '10TFK',\n",
       "               'hv_order_tileid': 'TK10F',\n",
       "               'format': 'SAFE',\n",
       "               'processingbaseline': '02.07',\n",
       "               'platformname': 'Sentinel-2',\n",
       "               'filename': 'S2A_MSIL1C_20181111T185621_N0207_R113_T10TFK_20181111T205747.SAFE',\n",
       "               'instrumentname': 'Multi-Spectral Instrument',\n",
       "               'instrumentshortname': 'MSI',\n",
       "               'size': '810.36 MB',\n",
       "               's2datatakeid': 'GS2A_20181111T185621_017699_N02.07',\n",
       "               'producttype': 'S2MSI1C',\n",
       "               'platformidentifier': '2015-028A',\n",
       "               'orbitdirection': 'DESCENDING',\n",
       "               'platformserialidentifier': 'Sentinel-2A',\n",
       "               'processinglevel': 'Level-1C',\n",
       "               'identifier': 'S2A_MSIL1C_20181111T185621_N0207_R113_T10TFK_20181111T205747',\n",
       "               'uuid': '313737ac-a9a5-49d0-ae06-280d1856e984'})])"
      ]
     },
     "execution_count": 30,
     "metadata": {},
     "output_type": "execute_result"
    }
   ],
   "source": [
    "products"
   ]
  },
  {
   "cell_type": "code",
   "execution_count": 31,
   "metadata": {},
   "outputs": [],
   "source": [
    "# convert to Pandas DataFrame\n",
    "products_df = api.to_dataframe(products)"
   ]
  },
  {
   "cell_type": "code",
   "execution_count": 32,
   "metadata": {},
   "outputs": [
    {
     "data": {
      "text/plain": [
       "(1, 32)"
      ]
     },
     "execution_count": 32,
     "metadata": {},
     "output_type": "execute_result"
    }
   ],
   "source": [
    "products_df.shape"
   ]
  },
  {
   "cell_type": "code",
   "execution_count": 33,
   "metadata": {},
   "outputs": [
    {
     "data": {
      "text/plain": [
       "title                       S2A_MSIL1C_20181111T185621_N0207_R113_T10TFK_2...\n",
       "link                        https://scihub.copernicus.eu/dhus/odata/v1/Pro...\n",
       "link_alternative            https://scihub.copernicus.eu/dhus/odata/v1/Pro...\n",
       "link_icon                   https://scihub.copernicus.eu/dhus/odata/v1/Pro...\n",
       "summary                     Date: 2018-11-11T18:56:21.024Z, Instrument: MS...\n",
       "datatakesensingstart                               2018-11-11 18:56:21.024000\n",
       "beginposition                                      2018-11-11 18:56:21.024000\n",
       "endposition                                        2018-11-11 18:56:21.024000\n",
       "ingestiondate                                      2018-11-11 22:37:47.339000\n",
       "orbitnumber                                                             17699\n",
       "relativeorbitnumber                                                       113\n",
       "cloudcoverpercentage                                                   2.0589\n",
       "sensoroperationalmode                                                INS-NOBS\n",
       "gmlfootprint                <gml:Polygon srsName=\"http://www.opengis.net/g...\n",
       "footprint                   MULTIPOLYGON (((-121.81731 40.64479964997401, ...\n",
       "tileid                                                                  10TFK\n",
       "hv_order_tileid                                                         TK10F\n",
       "format                                                                   SAFE\n",
       "processingbaseline                                                      02.07\n",
       "platformname                                                       Sentinel-2\n",
       "filename                    S2A_MSIL1C_20181111T185621_N0207_R113_T10TFK_2...\n",
       "instrumentname                                      Multi-Spectral Instrument\n",
       "instrumentshortname                                                       MSI\n",
       "size                                                                810.36 MB\n",
       "s2datatakeid                               GS2A_20181111T185621_017699_N02.07\n",
       "producttype                                                           S2MSI1C\n",
       "platformidentifier                                                  2015-028A\n",
       "orbitdirection                                                     DESCENDING\n",
       "platformserialidentifier                                          Sentinel-2A\n",
       "processinglevel                                                      Level-1C\n",
       "identifier                  S2A_MSIL1C_20181111T185621_N0207_R113_T10TFK_2...\n",
       "uuid                                     313737ac-a9a5-49d0-ae06-280d1856e984\n",
       "Name: 313737ac-a9a5-49d0-ae06-280d1856e984, dtype: object"
      ]
     },
     "execution_count": 33,
     "metadata": {},
     "output_type": "execute_result"
    }
   ],
   "source": [
    "products_df.iloc[0]"
   ]
  },
  {
   "cell_type": "code",
   "execution_count": 37,
   "metadata": {},
   "outputs": [],
   "source": [
    "# sort and limit to first 5 sorted products\n",
    "products_df_sorted = products_df.sort_values(['cloudcoverpercentage', 'ingestiondate'], ascending=[True, True])\n",
    "products_df_sorted = products_df_sorted.head(5)"
   ]
  },
  {
   "cell_type": "code",
   "execution_count": null,
   "metadata": {},
   "outputs": [],
   "source": []
  }
 ],
 "metadata": {
  "kernelspec": {
   "display_name": "Python 3",
   "language": "python",
   "name": "python3"
  },
  "language_info": {
   "codemirror_mode": {
    "name": "ipython",
    "version": 3
   },
   "file_extension": ".py",
   "mimetype": "text/x-python",
   "name": "python",
   "nbconvert_exporter": "python",
   "pygments_lexer": "ipython3",
   "version": "3.7.0"
  }
 },
 "nbformat": 4,
 "nbformat_minor": 2
}
