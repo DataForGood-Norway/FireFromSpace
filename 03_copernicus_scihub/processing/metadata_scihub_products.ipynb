{
 "cells": [
  {
   "cell_type": "code",
   "execution_count": 1,
   "metadata": {},
   "outputs": [],
   "source": [
    "import os\n",
    "\n",
    "# connect to the API\n",
    "from sentinelsat import SentinelAPI, read_geojson, geojson_to_wkt\n",
    "from datetime import date\n",
    "\n",
    "USER = os.environ['DHUS_USER']\n",
    "PASSWORD = os.environ['DHUS_PASSWORD']\n",
    "URL = os.environ['DHUS_URL'] # 'https://scihub.copernicus.eu/dhus'\n",
    "\n",
    "\n",
    "api = SentinelAPI(USER, PASSWORD, URL)"
   ]
  },
  {
   "cell_type": "code",
   "execution_count": 2,
   "metadata": {
    "scrolled": true
   },
   "outputs": [
    {
     "name": "stdout",
     "output_type": "stream",
     "text": [
      "{\r\n",
      "  \"type\": \"FeatureCollection\",\r\n",
      "  \"features\": [\r\n",
      "    {\r\n",
      "      \"type\": \"Feature\",\r\n",
      "      \"properties\": {},\r\n",
      "      \"geometry\": {\r\n",
      "        \"type\": \"Polygon\",\r\n",
      "        \"coordinates\": [\r\n",
      "          [\r\n",
      "            [\r\n",
      "              -121.453857421875,\r\n",
      "              39.81486542536203\r\n",
      "            ],\r\n",
      "            [\r\n",
      "              -121.3336944580078,\r\n",
      "              39.81486542536203\r\n",
      "            ],\r\n",
      "            [\r\n",
      "              -121.3336944580078,\r\n",
      "              39.90288884886166\r\n",
      "            ],\r\n",
      "            [\r\n",
      "              -121.453857421875,\r\n",
      "              39.90288884886166\r\n",
      "            ],\r\n",
      "            [\r\n",
      "              -121.453857421875,\r\n",
      "              39.81486542536203\r\n",
      "            ]\r\n",
      "          ]\r\n",
      "        ]\r\n",
      "      }\r\n",
      "    }\r\n",
      "  ]\r\n",
      "}\r\n"
     ]
    }
   ],
   "source": [
    "!cat map.geojson"
   ]
  },
  {
   "cell_type": "code",
   "execution_count": 3,
   "metadata": {},
   "outputs": [
    {
     "data": {
      "application/geo+json": {
       "features": [
        {
         "geometry": {
          "coordinates": [
           [
            [
             -121.453857421875,
             39.81486542536203
            ],
            [
             -121.3336944580078,
             39.81486542536203
            ],
            [
             -121.3336944580078,
             39.90288884886166
            ],
            [
             -121.453857421875,
             39.90288884886166
            ],
            [
             -121.453857421875,
             39.81486542536203
            ]
           ]
          ],
          "type": "Polygon"
         },
         "properties": {},
         "type": "Feature"
        }
       ],
       "type": "FeatureCollection"
      },
      "text/plain": [
       "<IPython.display.GeoJSON object>"
      ]
     },
     "metadata": {
      "application/geo+json": {
       "expanded": false,
       "layer_options": {
        "attribution": "Celestia/praesepe",
        "basemap_id": "celestia_mars-shaded-16k_global",
        "maxZoom": 5,
        "minZoom": 0,
        "tms": true
       },
       "root": "root",
       "url_template": "http://s3-eu-west-1.amazonaws.com/whereonmars.cartodb.net/{basemap_id}/{z}/{x}/{y}.png"
      }
     },
     "output_type": "display_data"
    }
   ],
   "source": [
    "# https://github.com/jupyterlab/jupyter-renderers/tree/master/packages/geojson-extension\n",
    "from IPython.display import GeoJSON\n",
    "GeoJSON(data=\"map.geojson\",\n",
    "        url_template=\"http://s3-eu-west-1.amazonaws.com/whereonmars.cartodb.net/{basemap_id}/{z}/{x}/{y}.png\",\n",
    "  layer_options={\n",
    "      \"basemap_id\": \"celestia_mars-shaded-16k_global\",\n",
    "      \"attribution\" : \"Celestia/praesepe\",\n",
    "      \"tms\": True,\n",
    "      \"minZoom\" : 0,\n",
    "      \"maxZoom\" : 5\n",
    "  })"
   ]
  },
  {
   "cell_type": "code",
   "execution_count": 4,
   "metadata": {},
   "outputs": [
    {
     "data": {
      "text/plain": [
       "'http://geojson.io/#data=data:application/json,%7B%22type%22%3A%20%22FeatureCollection%22%2C%20%22features%22%3A%20%5B%7B%22type%22%3A%20%22Feature%22%2C%20%22geometry%22%3A%20%7B%22type%22%3A%20%22FeatureCollection%22%2C%20%22features%22%3A%20%5B%7B%22id%22%3A%20%220%22%2C%20%22type%22%3A%20%22Feature%22%2C%20%22properties%22%3A%20%7B%7D%2C%20%22geometry%22%3A%20%7B%22type%22%3A%20%22Polygon%22%2C%20%22coordinates%22%3A%20%5B%5B%5B-121.453857421875%2C%2039.81486542536203%5D%2C%20%5B-121.3336944580078%2C%2039.81486542536203%5D%2C%20%5B-121.3336944580078%2C%2039.90288884886166%5D%2C%20%5B-121.453857421875%2C%2039.90288884886166%5D%2C%20%5B-121.453857421875%2C%2039.81486542536203%5D%5D%5D%7D%2C%20%22bbox%22%3A%20%5B-121.453857421875%2C%2039.81486542536203%2C%20-121.3336944580078%2C%2039.90288884886166%5D%7D%5D%2C%20%22bbox%22%3A%20%5B-121.453857421875%2C%2039.81486542536203%2C%20-121.3336944580078%2C%2039.90288884886166%5D%7D%7D%5D%7D'"
      ]
     },
     "execution_count": 4,
     "metadata": {},
     "output_type": "execute_result"
    }
   ],
   "source": [
    "# https://www.twilio.com/blog/2017/08/geospatial-analysis-python-geojson-geopandas.html\n",
    "import geopandas as gpd\n",
    "states = gpd.read_file('map.geojson')\n",
    "import geojsonio\n",
    "geojsonio.display(states)"
   ]
  },
  {
   "cell_type": "code",
   "execution_count": 5,
   "metadata": {},
   "outputs": [],
   "source": [
    "footprint = geojson_to_wkt(read_geojson('map.geojson'))\n",
    "products = api.query(footprint,\n",
    "                     date=('20181110', date(2018, 11, 12)),\n",
    "                    #  producttype='SLC',\n",
    "                     platformname='Sentinel-2',\n",
    "                    #  orbitdirection='ASCENDING',\n",
    "                    #  cloudcoverpercentage=(0, 50)\n",
    "                     )"
   ]
  },
  {
   "cell_type": "code",
   "execution_count": 6,
   "metadata": {},
   "outputs": [
    {
     "data": {
      "text/plain": [
       "collections.OrderedDict"
      ]
     },
     "execution_count": 6,
     "metadata": {},
     "output_type": "execute_result"
    }
   ],
   "source": [
    "type(products)"
   ]
  },
  {
   "cell_type": "code",
   "execution_count": 7,
   "metadata": {},
   "outputs": [
    {
     "data": {
      "text/plain": [
       "OrderedDict([('313737ac-a9a5-49d0-ae06-280d1856e984',\n",
       "              {'title': 'S2A_MSIL1C_20181111T185621_N0207_R113_T10TFK_20181111T205747',\n",
       "               'link': \"https://scihub.copernicus.eu/dhus/odata/v1/Products('313737ac-a9a5-49d0-ae06-280d1856e984')/$value\",\n",
       "               'link_alternative': \"https://scihub.copernicus.eu/dhus/odata/v1/Products('313737ac-a9a5-49d0-ae06-280d1856e984')/\",\n",
       "               'link_icon': \"https://scihub.copernicus.eu/dhus/odata/v1/Products('313737ac-a9a5-49d0-ae06-280d1856e984')/Products('Quicklook')/$value\",\n",
       "               'summary': 'Date: 2018-11-11T18:56:21.024Z, Instrument: MSI, Mode: , Satellite: Sentinel-2, Size: 810.36 MB',\n",
       "               'datatakesensingstart': datetime.datetime(2018, 11, 11, 18, 56, 21, 24000),\n",
       "               'beginposition': datetime.datetime(2018, 11, 11, 18, 56, 21, 24000),\n",
       "               'endposition': datetime.datetime(2018, 11, 11, 18, 56, 21, 24000),\n",
       "               'ingestiondate': datetime.datetime(2018, 11, 11, 22, 37, 47, 339000),\n",
       "               'orbitnumber': 17699,\n",
       "               'relativeorbitnumber': 113,\n",
       "               'cloudcoverpercentage': 2.0589,\n",
       "               'sensoroperationalmode': 'INS-NOBS',\n",
       "               'gmlfootprint': '<gml:Polygon srsName=\"http://www.opengis.net/gml/srs/epsg.xml#4326\" xmlns:gml=\"http://www.opengis.net/gml\">\\n   <gml:outerBoundaryIs>\\n      <gml:LinearRing>\\n         <gml:coordinates>40.64479964997401,-121.81731 40.62420990912828,-120.51955 39.63587147039632,-120.55524 39.65575725270223,-121.834335 40.64479964997401,-121.81731</gml:coordinates>\\n      </gml:LinearRing>\\n   </gml:outerBoundaryIs>\\n</gml:Polygon>',\n",
       "               'footprint': 'MULTIPOLYGON (((-121.81731 40.64479964997401, -121.834335 39.65575725270223, -120.55524 39.63587147039632, -120.51955 40.62420990912828, -121.81731 40.64479964997401)))',\n",
       "               'tileid': '10TFK',\n",
       "               'hv_order_tileid': 'TK10F',\n",
       "               'format': 'SAFE',\n",
       "               'processingbaseline': '02.07',\n",
       "               'platformname': 'Sentinel-2',\n",
       "               'filename': 'S2A_MSIL1C_20181111T185621_N0207_R113_T10TFK_20181111T205747.SAFE',\n",
       "               'instrumentname': 'Multi-Spectral Instrument',\n",
       "               'instrumentshortname': 'MSI',\n",
       "               'size': '810.36 MB',\n",
       "               's2datatakeid': 'GS2A_20181111T185621_017699_N02.07',\n",
       "               'producttype': 'S2MSI1C',\n",
       "               'platformidentifier': '2015-028A',\n",
       "               'orbitdirection': 'DESCENDING',\n",
       "               'platformserialidentifier': 'Sentinel-2A',\n",
       "               'processinglevel': 'Level-1C',\n",
       "               'identifier': 'S2A_MSIL1C_20181111T185621_N0207_R113_T10TFK_20181111T205747',\n",
       "               'uuid': '313737ac-a9a5-49d0-ae06-280d1856e984'})])"
      ]
     },
     "execution_count": 7,
     "metadata": {},
     "output_type": "execute_result"
    }
   ],
   "source": [
    "products"
   ]
  },
  {
   "cell_type": "code",
   "execution_count": 8,
   "metadata": {},
   "outputs": [],
   "source": [
    "# convert to Pandas DataFrame\n",
    "products_df = api.to_dataframe(products)"
   ]
  },
  {
   "cell_type": "code",
   "execution_count": 9,
   "metadata": {},
   "outputs": [
    {
     "data": {
      "text/plain": [
       "(1, 32)"
      ]
     },
     "execution_count": 9,
     "metadata": {},
     "output_type": "execute_result"
    }
   ],
   "source": [
    "products_df.shape"
   ]
  },
  {
   "cell_type": "code",
   "execution_count": 10,
   "metadata": {},
   "outputs": [
    {
     "data": {
      "text/plain": [
       "title                       S2A_MSIL1C_20181111T185621_N0207_R113_T10TFK_2...\n",
       "link                        https://scihub.copernicus.eu/dhus/odata/v1/Pro...\n",
       "link_alternative            https://scihub.copernicus.eu/dhus/odata/v1/Pro...\n",
       "link_icon                   https://scihub.copernicus.eu/dhus/odata/v1/Pro...\n",
       "summary                     Date: 2018-11-11T18:56:21.024Z, Instrument: MS...\n",
       "datatakesensingstart                               2018-11-11 18:56:21.024000\n",
       "beginposition                                      2018-11-11 18:56:21.024000\n",
       "endposition                                        2018-11-11 18:56:21.024000\n",
       "ingestiondate                                      2018-11-11 22:37:47.339000\n",
       "orbitnumber                                                             17699\n",
       "relativeorbitnumber                                                       113\n",
       "cloudcoverpercentage                                                   2.0589\n",
       "sensoroperationalmode                                                INS-NOBS\n",
       "gmlfootprint                <gml:Polygon srsName=\"http://www.opengis.net/g...\n",
       "footprint                   MULTIPOLYGON (((-121.81731 40.64479964997401, ...\n",
       "tileid                                                                  10TFK\n",
       "hv_order_tileid                                                         TK10F\n",
       "format                                                                   SAFE\n",
       "processingbaseline                                                      02.07\n",
       "platformname                                                       Sentinel-2\n",
       "filename                    S2A_MSIL1C_20181111T185621_N0207_R113_T10TFK_2...\n",
       "instrumentname                                      Multi-Spectral Instrument\n",
       "instrumentshortname                                                       MSI\n",
       "size                                                                810.36 MB\n",
       "s2datatakeid                               GS2A_20181111T185621_017699_N02.07\n",
       "producttype                                                           S2MSI1C\n",
       "platformidentifier                                                  2015-028A\n",
       "orbitdirection                                                     DESCENDING\n",
       "platformserialidentifier                                          Sentinel-2A\n",
       "processinglevel                                                      Level-1C\n",
       "identifier                  S2A_MSIL1C_20181111T185621_N0207_R113_T10TFK_2...\n",
       "uuid                                     313737ac-a9a5-49d0-ae06-280d1856e984\n",
       "Name: 313737ac-a9a5-49d0-ae06-280d1856e984, dtype: object"
      ]
     },
     "execution_count": 10,
     "metadata": {},
     "output_type": "execute_result"
    }
   ],
   "source": [
    "products_df.iloc[0]"
   ]
  },
  {
   "cell_type": "code",
   "execution_count": 11,
   "metadata": {},
   "outputs": [],
   "source": [
    "# sort and limit to first 5 sorted products\n",
    "products_df_sorted = products_df.sort_values(['cloudcoverpercentage', 'ingestiondate'], ascending=[True, True])\n",
    "products_df_sorted = products_df_sorted.head(5)"
   ]
  },
  {
   "cell_type": "markdown",
   "metadata": {},
   "source": [
    "> * query() for OpenSearch (Solr), which supports filtering products by their attributes and returns metadata for all matched products at once.\n",
    "> * get_product_odata() for OData, which can be queried one product at a time but provides the full metadata available for each product, as well as information about the product file such as the file size and checksum, which are not available from OpenSearch."
   ]
  },
  {
   "cell_type": "code",
   "execution_count": 12,
   "metadata": {},
   "outputs": [
    {
     "data": {
      "text/plain": [
       "{'id': '313737ac-a9a5-49d0-ae06-280d1856e984',\n",
       " 'title': 'S2A_MSIL1C_20181111T185621_N0207_R113_T10TFK_20181111T205747',\n",
       " 'size': 849764964,\n",
       " 'md5': 'C76F928E3766081361A3502F044AFF2E',\n",
       " 'date': datetime.datetime(2018, 11, 11, 18, 56, 21, 24000),\n",
       " 'footprint': 'POLYGON((-121.81731 40.64479964997401,-120.51955 40.62420990912828,-120.55524 39.63587147039632,-121.834335 39.65575725270223,-121.81731 40.64479964997401))',\n",
       " 'url': \"https://scihub.copernicus.eu/dhus/odata/v1/Products('313737ac-a9a5-49d0-ae06-280d1856e984')/$value\",\n",
       " 'Online': True,\n",
       " 'Creation Date': datetime.datetime(2018, 11, 11, 22, 38, 44, 731000),\n",
       " 'Ingestion Date': datetime.datetime(2018, 11, 11, 22, 37, 47, 339000)}"
      ]
     },
     "execution_count": 12,
     "metadata": {},
     "output_type": "execute_result"
    }
   ],
   "source": [
    "# Get basic information about the product: its title, file size, MD5 sum, date, footprint and\n",
    "# its download url\n",
    "product_id = products_df_sorted['uuid'].values[0]\n",
    "basic_infos = api.get_product_odata(product_id)\n",
    "basic_infos"
   ]
  },
  {
   "cell_type": "code",
   "execution_count": 13,
   "metadata": {},
   "outputs": [
    {
     "data": {
      "text/plain": [
       "{'id': '313737ac-a9a5-49d0-ae06-280d1856e984',\n",
       " 'title': 'S2A_MSIL1C_20181111T185621_N0207_R113_T10TFK_20181111T205747',\n",
       " 'size': 849764964,\n",
       " 'md5': 'C76F928E3766081361A3502F044AFF2E',\n",
       " 'date': datetime.datetime(2018, 11, 11, 18, 56, 21, 24000),\n",
       " 'footprint': 'POLYGON((-121.81731 40.64479964997401,-120.51955 40.62420990912828,-120.55524 39.63587147039632,-121.834335 39.65575725270223,-121.81731 40.64479964997401))',\n",
       " 'url': \"https://scihub.copernicus.eu/dhus/odata/v1/Products('313737ac-a9a5-49d0-ae06-280d1856e984')/$value\",\n",
       " 'Online': True,\n",
       " 'Creation Date': datetime.datetime(2018, 11, 11, 22, 38, 44, 731000),\n",
       " 'Ingestion Date': datetime.datetime(2018, 11, 11, 22, 37, 47, 339000),\n",
       " 'Cloud cover percentage': 2.0589,\n",
       " 'Datatake sensing start': datetime.datetime(2018, 11, 11, 18, 56, 21, 24000),\n",
       " 'Date': datetime.datetime(2018, 11, 11, 18, 56, 21, 24000),\n",
       " 'Degraded ancillary data percentage': 0.0,\n",
       " 'Degraded MSI data percentage': 0,\n",
       " 'Filename': 'S2A_MSIL1C_20181111T185621_N0207_R113_T10TFK_20181111T205747.SAFE',\n",
       " 'Footprint': '<gml:Polygon srsName=\"http://www.opengis.net/gml/srs/epsg.xml#4326\" xmlns:gml=\"http://www.opengis.net/gml\">\\n   <gml:outerBoundaryIs>\\n      <gml:LinearRing>\\n         <gml:coordinates>40.64479964997401,-121.81731 40.62420990912828,-120.51955 39.63587147039632,-120.55524 39.65575725270223,-121.834335 40.64479964997401,-121.81731</gml:coordinates>\\n      </gml:LinearRing>\\n   </gml:outerBoundaryIs>\\n</gml:Polygon>',\n",
       " 'Format': 'SAFE',\n",
       " 'Format correctness': 'PASSED',\n",
       " 'General quality': 'PASSED',\n",
       " 'Generation time': datetime.datetime(2018, 11, 11, 20, 57, 47),\n",
       " 'Geometric quality': 'PASSED',\n",
       " 'Identifier': 'S2A_MSIL1C_20181111T185621_N0207_R113_T10TFK_20181111T205747',\n",
       " 'Instrument': 'MSI',\n",
       " 'Instrument abbreviation': 'MSI',\n",
       " 'Instrument mode': 'INS-NOBS',\n",
       " 'Instrument name': 'Multi-Spectral Instrument',\n",
       " 'JTS footprint': 'MULTIPOLYGON (((-121.81731 40.64479964997401, -121.834335 39.65575725270223, -120.55524 39.63587147039632, -120.51955 40.62420990912828, -121.81731 40.64479964997401)))',\n",
       " 'Mission datatake id': 'GS2A_20181111T185621_017699_N02.07',\n",
       " 'NSSDC identifier': '2015-028A',\n",
       " 'Orbit number (start)': 17699,\n",
       " 'Pass direction': 'DESCENDING',\n",
       " 'Platform serial identifier': 'Sentinel-2A',\n",
       " 'Processing baseline': 2.07,\n",
       " 'Processing level': 'Level-1C',\n",
       " 'Product type': 'S2MSI1C',\n",
       " 'Radiometric quality': 'PASSED',\n",
       " 'Relative orbit (start)': 113,\n",
       " 'Satellite': 'Sentinel-2',\n",
       " 'Satellite name': 'Sentinel-2',\n",
       " 'Satellite number': 'A',\n",
       " 'Sensing start': datetime.datetime(2018, 11, 11, 18, 56, 21, 24000),\n",
       " 'Sensing stop': datetime.datetime(2018, 11, 11, 18, 56, 21, 24000),\n",
       " 'Sensor quality': 'PASSED',\n",
       " 'Size': '810.36 MB',\n",
       " 'Tile Identifier': '10TFK',\n",
       " 'Tile Identifier horizontal order': 'TK10F'}"
      ]
     },
     "execution_count": 13,
     "metadata": {},
     "output_type": "execute_result"
    }
   ],
   "source": [
    "product_id = products_df_sorted['uuid'].values[0]\n",
    "\n",
    "# Get the product's full metadata available on the server\n",
    "full_infos = api.get_product_odata(product_id, full=True)\n",
    "full_infos"
   ]
  },
  {
   "cell_type": "code",
   "execution_count": null,
   "metadata": {},
   "outputs": [],
   "source": []
  }
 ],
 "metadata": {
  "kernelspec": {
   "display_name": "Python 3",
   "language": "python",
   "name": "python3"
  },
  "language_info": {
   "codemirror_mode": {
    "name": "ipython",
    "version": 3
   },
   "file_extension": ".py",
   "mimetype": "text/x-python",
   "name": "python",
   "nbconvert_exporter": "python",
   "pygments_lexer": "ipython3",
   "version": "3.7.0"
  }
 },
 "nbformat": 4,
 "nbformat_minor": 2
}
